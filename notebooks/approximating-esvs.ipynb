{
 "cells": [
  {
   "cell_type": "code",
   "execution_count": 1,
   "metadata": {},
   "outputs": [],
   "source": [
    "%load_ext autoreload\n",
    "%autoreload 2"
   ]
  },
  {
   "cell_type": "code",
   "execution_count": 2,
   "metadata": {},
   "outputs": [],
   "source": [
    "import sys\n",
    "sys.path.insert(0, '../src')"
   ]
  },
  {
   "cell_type": "code",
   "execution_count": 5,
   "metadata": {},
   "outputs": [],
   "source": [
    "import time\n",
    "import torch\n",
    "import numpy as np\n",
    "import pandas as pd\n",
    "import seaborn as sns\n",
    "import matplotlib.pyplot as plt\n",
    "\n",
    "from functools import lru_cache\n",
    "from tqdm import tqdm\n",
    "from devtools import debug\n",
    "from ipywidgets import interact, widgets\n",
    "from gulpio import GulpDirectory"
   ]
  },
  {
   "cell_type": "code",
   "execution_count": 6,
   "metadata": {},
   "outputs": [],
   "source": [
    "from config.application import FeatureConfig\n",
    "from config.jsonnet import load_jsonnet\n",
    "from subset_samplers import ConstructiveRandomSampler\n",
    "from attribution.online_shapley_value_attributor import OnlineShapleyAttributor\n",
    "from torchvideo.samplers import FullVideoSampler"
   ]
  },
  {
   "cell_type": "code",
   "execution_count": 7,
   "metadata": {},
   "outputs": [],
   "source": [
    "sns.set()"
   ]
  },
  {
   "cell_type": "code",
   "execution_count": 8,
   "metadata": {},
   "outputs": [],
   "source": [
    "config_dict = load_jsonnet(\"../configs/feature_multiscale_trn.jsonnet\")\n",
    "config = FeatureConfig(**config_dict)"
   ]
  },
  {
   "cell_type": "code",
   "execution_count": 9,
   "metadata": {},
   "outputs": [],
   "source": [
    "gulp_dir = GulpDirectory('../datasets/ssv2/gulp/validation/')"
   ]
  },
  {
   "cell_type": "code",
   "execution_count": 10,
   "metadata": {},
   "outputs": [],
   "source": [
    "device = torch.device('cuda:0')"
   ]
  },
  {
   "cell_type": "code",
   "execution_count": 11,
   "metadata": {},
   "outputs": [
    {
     "ename": "OSError",
     "evalue": "Unable to open file (unable to open file: name = '../datasets/ssv2/features/trn.hdf', errno = 2, error message = 'No such file or directory', flags = 40, o_flags = 0)",
     "output_type": "error",
     "traceback": [
      "\u001b[0;31m---------------------------------------------------------------------------\u001b[0m",
      "\u001b[0;31mOSError\u001b[0m                                   Traceback (most recent call last)",
      "\u001b[0;32m<ipython-input-11-22a34bd5075b>\u001b[0m in \u001b[0;36m<module>\u001b[0;34m\u001b[0m\n\u001b[0;32m----> 1\u001b[0;31m \u001b[0mdataset_builder\u001b[0m \u001b[0;34m=\u001b[0m \u001b[0mconfig\u001b[0m\u001b[0;34m.\u001b[0m\u001b[0mdataset\u001b[0m\u001b[0;34m.\u001b[0m\u001b[0minstantiate\u001b[0m\u001b[0;34m(\u001b[0m\u001b[0;34m)\u001b[0m\u001b[0;34m\u001b[0m\u001b[0;34m\u001b[0m\u001b[0m\n\u001b[0m\u001b[1;32m      2\u001b[0m \u001b[0mdataset\u001b[0m \u001b[0;34m=\u001b[0m \u001b[0mdataset_builder\u001b[0m\u001b[0;34m.\u001b[0m\u001b[0mvalidation_dataset\u001b[0m\u001b[0;34m(\u001b[0m\u001b[0msampler\u001b[0m\u001b[0;34m=\u001b[0m\u001b[0mFullVideoSampler\u001b[0m\u001b[0;34m(\u001b[0m\u001b[0;34m)\u001b[0m\u001b[0;34m)\u001b[0m\u001b[0;34m\u001b[0m\u001b[0;34m\u001b[0m\u001b[0m\n",
      "\u001b[0;32m~/play-fair/src/config/data.py\u001b[0m in \u001b[0;36minstantiate\u001b[0;34m(self)\u001b[0m\n\u001b[1;32m     39\u001b[0m \u001b[0;34m\u001b[0m\u001b[0m\n\u001b[1;32m     40\u001b[0m     \u001b[0;32mdef\u001b[0m \u001b[0minstantiate\u001b[0m\u001b[0;34m(\u001b[0m\u001b[0mself\u001b[0m\u001b[0;34m)\u001b[0m\u001b[0;34m:\u001b[0m\u001b[0;34m\u001b[0m\u001b[0;34m\u001b[0m\u001b[0m\n\u001b[0;32m---> 41\u001b[0;31m         \u001b[0mh5_file\u001b[0m \u001b[0;34m=\u001b[0m \u001b[0mh5py\u001b[0m\u001b[0;34m.\u001b[0m\u001b[0mFile\u001b[0m\u001b[0;34m(\u001b[0m\u001b[0mself\u001b[0m\u001b[0;34m.\u001b[0m\u001b[0mpath\u001b[0m\u001b[0;34m,\u001b[0m \u001b[0mmode\u001b[0m\u001b[0;34m=\u001b[0m\u001b[0;34m\"r\"\u001b[0m\u001b[0;34m,\u001b[0m \u001b[0mswmr\u001b[0m\u001b[0;34m=\u001b[0m\u001b[0;32mTrue\u001b[0m\u001b[0;34m)\u001b[0m\u001b[0;34m\u001b[0m\u001b[0;34m\u001b[0m\u001b[0m\n\u001b[0m\u001b[1;32m     42\u001b[0m         \u001b[0;32mreturn\u001b[0m \u001b[0mSomethingSomethingV2FeaturesDataset\u001b[0m\u001b[0;34m(\u001b[0m\u001b[0mh5_file\u001b[0m\u001b[0;34m,\u001b[0m \u001b[0min_mem\u001b[0m\u001b[0;34m=\u001b[0m\u001b[0mself\u001b[0m\u001b[0;34m.\u001b[0m\u001b[0min_memory\u001b[0m\u001b[0;34m)\u001b[0m\u001b[0;34m\u001b[0m\u001b[0;34m\u001b[0m\u001b[0m\n\u001b[1;32m     43\u001b[0m \u001b[0;34m\u001b[0m\u001b[0m\n",
      "\u001b[0;32m/home/eve/miniconda2/envs/play-fair/lib/python3.7/site-packages/h5py/_hl/files.py\u001b[0m in \u001b[0;36m__init__\u001b[0;34m(self, name, mode, driver, libver, userblock_size, swmr, rdcc_nslots, rdcc_nbytes, rdcc_w0, track_order, fs_strategy, fs_persist, fs_threshold, **kwds)\u001b[0m\n\u001b[1;32m    425\u001b[0m                                fapl, fcpl=make_fcpl(track_order=track_order, fs_strategy=fs_strategy,\n\u001b[1;32m    426\u001b[0m                                fs_persist=fs_persist, fs_threshold=fs_threshold),\n\u001b[0;32m--> 427\u001b[0;31m                                swmr=swmr)\n\u001b[0m\u001b[1;32m    428\u001b[0m \u001b[0;34m\u001b[0m\u001b[0m\n\u001b[1;32m    429\u001b[0m             \u001b[0;32mif\u001b[0m \u001b[0misinstance\u001b[0m\u001b[0;34m(\u001b[0m\u001b[0mlibver\u001b[0m\u001b[0;34m,\u001b[0m \u001b[0mtuple\u001b[0m\u001b[0;34m)\u001b[0m\u001b[0;34m:\u001b[0m\u001b[0;34m\u001b[0m\u001b[0;34m\u001b[0m\u001b[0m\n",
      "\u001b[0;32m/home/eve/miniconda2/envs/play-fair/lib/python3.7/site-packages/h5py/_hl/files.py\u001b[0m in \u001b[0;36mmake_fid\u001b[0;34m(name, mode, userblock_size, fapl, fcpl, swmr)\u001b[0m\n\u001b[1;32m    188\u001b[0m         \u001b[0;32mif\u001b[0m \u001b[0mswmr\u001b[0m \u001b[0;32mand\u001b[0m \u001b[0mswmr_support\u001b[0m\u001b[0;34m:\u001b[0m\u001b[0;34m\u001b[0m\u001b[0;34m\u001b[0m\u001b[0m\n\u001b[1;32m    189\u001b[0m             \u001b[0mflags\u001b[0m \u001b[0;34m|=\u001b[0m \u001b[0mh5f\u001b[0m\u001b[0;34m.\u001b[0m\u001b[0mACC_SWMR_READ\u001b[0m\u001b[0;34m\u001b[0m\u001b[0;34m\u001b[0m\u001b[0m\n\u001b[0;32m--> 190\u001b[0;31m         \u001b[0mfid\u001b[0m \u001b[0;34m=\u001b[0m \u001b[0mh5f\u001b[0m\u001b[0;34m.\u001b[0m\u001b[0mopen\u001b[0m\u001b[0;34m(\u001b[0m\u001b[0mname\u001b[0m\u001b[0;34m,\u001b[0m \u001b[0mflags\u001b[0m\u001b[0;34m,\u001b[0m \u001b[0mfapl\u001b[0m\u001b[0;34m=\u001b[0m\u001b[0mfapl\u001b[0m\u001b[0;34m)\u001b[0m\u001b[0;34m\u001b[0m\u001b[0;34m\u001b[0m\u001b[0m\n\u001b[0m\u001b[1;32m    191\u001b[0m     \u001b[0;32melif\u001b[0m \u001b[0mmode\u001b[0m \u001b[0;34m==\u001b[0m \u001b[0;34m'r+'\u001b[0m\u001b[0;34m:\u001b[0m\u001b[0;34m\u001b[0m\u001b[0;34m\u001b[0m\u001b[0m\n\u001b[1;32m    192\u001b[0m         \u001b[0mfid\u001b[0m \u001b[0;34m=\u001b[0m \u001b[0mh5f\u001b[0m\u001b[0;34m.\u001b[0m\u001b[0mopen\u001b[0m\u001b[0;34m(\u001b[0m\u001b[0mname\u001b[0m\u001b[0;34m,\u001b[0m \u001b[0mh5f\u001b[0m\u001b[0;34m.\u001b[0m\u001b[0mACC_RDWR\u001b[0m\u001b[0;34m,\u001b[0m \u001b[0mfapl\u001b[0m\u001b[0;34m=\u001b[0m\u001b[0mfapl\u001b[0m\u001b[0;34m)\u001b[0m\u001b[0;34m\u001b[0m\u001b[0;34m\u001b[0m\u001b[0m\n",
      "\u001b[0;32mh5py/_objects.pyx\u001b[0m in \u001b[0;36mh5py._objects.with_phil.wrapper\u001b[0;34m()\u001b[0m\n",
      "\u001b[0;32mh5py/_objects.pyx\u001b[0m in \u001b[0;36mh5py._objects.with_phil.wrapper\u001b[0;34m()\u001b[0m\n",
      "\u001b[0;32mh5py/h5f.pyx\u001b[0m in \u001b[0;36mh5py.h5f.open\u001b[0;34m()\u001b[0m\n",
      "\u001b[0;31mOSError\u001b[0m: Unable to open file (unable to open file: name = '../datasets/ssv2/features/trn.hdf', errno = 2, error message = 'No such file or directory', flags = 40, o_flags = 0)"
     ]
    }
   ],
   "source": [
    "dataset_builder = config.dataset.instantiate()\n",
    "dataset = dataset_builder.validation_dataset(sampler=FullVideoSampler())"
   ]
  },
  {
   "cell_type": "code",
   "execution_count": 44,
   "metadata": {},
   "outputs": [],
   "source": [
    "class2str = dataset_builder.class2str()"
   ]
  },
  {
   "cell_type": "code",
   "execution_count": 25,
   "metadata": {},
   "outputs": [],
   "source": [
    "model = config.get_model().eval().to(device)"
   ]
  },
  {
   "cell_type": "code",
   "execution_count": 26,
   "metadata": {},
   "outputs": [],
   "source": [
    "class_priors = pd.read_csv('../datasets/ssv2/class-priors.csv', index_col='class', squeeze=True).values"
   ]
  },
  {
   "cell_type": "code",
   "execution_count": 27,
   "metadata": {},
   "outputs": [],
   "source": [
    "@lru_cache(maxsize=1000)\n",
    "def compute_approximate_esvs(uid: str, n_runs: int, max_samples: int):\n",
    "    subset_sampler = ConstructiveRandomSampler(max_samples=max_samples, device=device)\n",
    "    attributor = OnlineShapleyAttributor(\n",
    "        single_scale_models=model.single_scale_models,\n",
    "        priors=class_priors,\n",
    "        n_classes=config.dataset.class_count,\n",
    "        device=device,\n",
    "        subset_sampler=subset_sampler,\n",
    "    )\n",
    "    \n",
    "    run_results = []\n",
    "    for _ in range(n_runs):\n",
    "        start = time.time()\n",
    "        esvs, scores = attributor.explain(torch.from_numpy(features).to(device))\n",
    "        duration_ms = (time.time() - start) * 1000\n",
    "        run_results.append({\n",
    "            'esvs': esvs.cpu().numpy(),\n",
    "            'scores': scores.cpu().numpy(),\n",
    "            'duration_ms': duration_ms\n",
    "        })\n",
    "    return run_results"
   ]
  },
  {
   "cell_type": "code",
   "execution_count": 28,
   "metadata": {},
   "outputs": [],
   "source": [
    "uids = list(dataset.label_sets['uid'])\n",
    "labels = dataset.label_sets['action']"
   ]
  },
  {
   "cell_type": "code",
   "execution_count": 76,
   "metadata": {},
   "outputs": [],
   "source": [
    "str2class = {v:k for k,v in class2str.items()}"
   ]
  },
  {
   "cell_type": "code",
   "execution_count": 86,
   "metadata": {},
   "outputs": [
    {
     "data": {
      "text/plain": [
       "'100765'"
      ]
     },
     "execution_count": 86,
     "metadata": {},
     "output_type": "execute_result"
    }
   ],
   "source": [
    "cls = 'Pouring something into something'\n",
    "class_example_idxs = (labels == str2class[cls]).nonzero()[0]\n",
    "uid = uids[class_example_idxs[0]]\n",
    "example_idx = uids.index(uid)\n",
    "label = labels[example_idx]\n",
    "uid"
   ]
  },
  {
   "cell_type": "code",
   "execution_count": 87,
   "metadata": {},
   "outputs": [],
   "source": [
    "features, label_dict = dataset[example_idx]\n",
    "assert label_dict['uid'] == uid"
   ]
  },
  {
   "cell_type": "code",
   "execution_count": 90,
   "metadata": {},
   "outputs": [
    {
     "data": {
      "application/vnd.jupyter.widget-view+json": {
       "model_id": "e1dcb15a68f14c6fadeab7f967cee39c",
       "version_major": 2,
       "version_minor": 0
      },
      "text/plain": [
       "interactive(children=(Dropdown(description='Number of times to run approximation', index=2, options=(1, 2, 3, …"
      ]
     },
     "metadata": {},
     "output_type": "display_data"
    },
    {
     "data": {
      "text/plain": [
       "<function __main__.plot_esvs(n_runs: int, max_samples: int, n_iters: int, _cls: int, highlighed_frame: int = 1)>"
      ]
     },
     "execution_count": 90,
     "metadata": {},
     "output_type": "execute_result"
    }
   ],
   "source": [
    "def plot_esvs(n_runs: int, max_samples: int, n_iters: int, _cls: int, highlighed_frame: int = 1):\n",
    "    run_results = compute_approximate_esvs(uid, n_runs, max_samples)\n",
    "    entries = []\n",
    "    for run_idx, result in enumerate(run_results):\n",
    "        for frame_idx, esv in enumerate(result['esvs'][..., _cls]):\n",
    "            entry = {\n",
    "                'run_idx': run_idx,\n",
    "                'frame': frame_idx + 1,\n",
    "                'esv': esv\n",
    "            }\n",
    "            entries.append(entry)\n",
    "    df = pd.DataFrame(entries)\n",
    "    fig, axs = plt.subplots(figsize=(17, 5), ncols=3, constrained_layout=True)\n",
    "    sns.lineplot(x='frame', y='esv', data=df, zorder=2, ax=axs[2])\n",
    "    axs[0].imshow(gulp_dir[uid][0][highlighed_frame - 1])\n",
    "    axs[0].grid(None)\n",
    "    axs[0].axis('off')\n",
    "    scores = np.stack([r['scores'] for r in run_results]).mean(axis=0)\n",
    "    top_10_preds = scores.argsort()[::-1][:10]\n",
    "    axs[1].barh([class2str[pred] for pred in top_10_preds][::-1], scores[top_10_preds][::-1])\n",
    "    axs[1].set_title(\"Top-10 predications\")\n",
    "    axs[2].set_xlabel(\"Frame\")\n",
    "    axs[2].set_ylabel(\"ESV\")\n",
    "    axs[2].axhline(0, color='grey', zorder=1)\n",
    "    axs[2].axvline(highlighed_frame, color='red')\n",
    "    axs[2].set_title(\"Element Shapley Values\")\n",
    "    \n",
    "\n",
    "style = {'description_width': 'initial'}\n",
    "interact(\n",
    "    plot_esvs,\n",
    "    n_runs=widgets.Dropdown(\n",
    "        options=[1, 2, 3, 5, 10],\n",
    "        value=3,\n",
    "        description=\"Number of times to run approximation\",\n",
    "        style=style\n",
    "    ),\n",
    "    max_samples=widgets.Dropdown(\n",
    "        options=[128, 256, 512, 1024],\n",
    "        value=512,\n",
    "        description=\"Max # samples/scale in approximation\",\n",
    "        style=style\n",
    "    ),\n",
    "    n_iters=widgets.Dropdown(\n",
    "        options=[1, 2, 4, 8], \n",
    "        value=1,\n",
    "        description=\"Number of iterations in approximation\",\n",
    "        style=style\n",
    "    ),\n",
    "    _cls=widgets.Dropdown(\n",
    "        options=[\n",
    "            (name, cls)\n",
    "            for cls, name in class2str.items()\n",
    "        ],\n",
    "        value=label_dict['action'],\n",
    "        description=\"Class\",\n",
    "        style=style\n",
    "    ),\n",
    "    highlighed_frame=widgets.IntSlider(\n",
    "        value=1,\n",
    "        min=1,\n",
    "        max=len(gulp_dir.merged_meta_dict[uid]['frame_info']),\n",
    "        description=\"Frame\",\n",
    "        style=style\n",
    "    )\n",
    ")"
   ]
  }
 ],
 "metadata": {
  "kernelspec": {
   "display_name": "Python 3",
   "language": "python",
   "name": "python3"
  },
  "language_info": {
   "codemirror_mode": {
    "name": "ipython",
    "version": 3
   },
   "file_extension": ".py",
   "mimetype": "text/x-python",
   "name": "python",
   "nbconvert_exporter": "python",
   "pygments_lexer": "ipython3",
   "version": "3.7.8"
  }
 },
 "nbformat": 4,
 "nbformat_minor": 4
}
